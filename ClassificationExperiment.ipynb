{
 "cells": [
  {
   "cell_type": "code",
   "execution_count": 3,
   "metadata": {},
   "outputs": [
    {
     "data": {
      "image/png": "[encoded data removed]",
      "text/plain": [
       "<matplotlib.figure.Figure at 0x7fc59f965048>"
      ]
     },
     "metadata": {},
     "output_type": "display_data"
    }
   ],
   "source": [
    "import numpy as np\n",
    "from numpy import *\n",
    "import sklearn \n",
    "from sklearn.datasets import load_svmlight_file\n",
    "from sklearn.model_selection import train_test_split\n",
    "import matplotlib.pyplot as plt\n",
    "\n",
    "#read dataset\n",
    "X,y = load_svmlight_file(\"Australian.txt\")\n",
    "\n",
    "X_train,X_test,y_train,y_test = train_test_split(X,y,test_size = 0.2,random_state = 45)\n",
    "\n",
    "X_train = X_train.toarray()\n",
    "X_test = X_test.toarray()\n",
    "\n",
    "y_train = y_train\n",
    "y_test = y_test\n",
    "\n",
    "#parameters\n",
    "n = X_train.shape[1]\n",
    "w = mat(zeros((n,1)))\n",
    "b = 0\n",
    "c = 0.9\n",
    "nita = 0.005\n",
    "\n",
    "#if the matrix contains only one element,get it as a number\n",
    "def ele(t):\n",
    "    return np.array(t)[0]\n",
    "\n",
    "#gradient function\n",
    "def gw(X,y,i):\n",
    "    if 1-y[i]*(ele(w.T*matrix(X[i]).T)+b) >= 0:\n",
    "        return -y[i]*matrix(X[i]).T\n",
    "    else:\n",
    "        return mat(zeros((n,1)))\n",
    "\n",
    "def gb(X,y,i):\n",
    "    if 1-y[i]*(ele(w.T*matrix(X[i]).T)+b) >= 0:\n",
    "        return -y[i]\n",
    "    else :\n",
    "        return 0\n",
    "\n",
    "def gradw(X,y):\n",
    "    t = mat(zeros((n,1)))\n",
    "    for i in range(n):\n",
    "        t += gw(X,y,i)\n",
    "    t *= c\n",
    "    return w+t\n",
    "\n",
    "def gradb(X,y):\n",
    "    t = 0\n",
    "    for i in range(n):\n",
    "        t += gb(X,y,i)\n",
    "    t *= c\n",
    "    return t\n",
    "\n",
    "def accur(X,y):\n",
    "    t = 0\n",
    "    for i in range(X.shape[1]):\n",
    "        if y[i]*(ele(w.T*matrix(X[i]).T)+b) >= 0.7:\n",
    "            t += 1\n",
    "    return t/X.shape[1]\n",
    "\n",
    "iter_cnt = 0\n",
    "iter_time = 1000\n",
    "\n",
    "train_x = []\n",
    "train_y = []\n",
    "\n",
    "test_x = []\n",
    "test_y = []\n",
    "\n",
    "#gradient descent\n",
    "while iter_cnt < iter_time:\n",
    "    iter_cnt += 1\n",
    "    w += nita*(-gradw(X_train,y_train)/n);\n",
    "    b += nita*(-gradb(X_train,y_train)/n);\n",
    "    \n",
    "    train_x.append(iter_cnt)\n",
    "    train_y.append(accur(X_train,y_train))\n",
    "    test_x.append(iter_cnt)\n",
    "    test_y.append(accur(X_test,y_test))\n",
    "\n",
    "#plot\n",
    "plt.plot(train_x,train_y,label = \"train\")\n",
    "plt.plot(test_x,test_y,label = \"validation\")\n",
    "plt.legend(loc = 'lower right')\n",
    "\n",
    "plt.xlabel(\"Iteration time\")\n",
    "plt.ylabel(\"Accuracy\")\n",
    "\n",
    "plt.show()\n",
    "\n"
   ]
  },
  {
   "cell_type": "code",
   "execution_count": null,
   "metadata": {
    "collapsed": true
   },
   "outputs": [],
   "source": []
  }
 ],
 "metadata": {
  "kernelspec": {
   "display_name": "Python 3",
   "language": "python",
   "name": "python3"
  },
  "language_info": {
   "codemirror_mode": {
    "name": "ipython",
    "version": 3
   },
   "file_extension": ".py",
   "mimetype": "text/x-python",
   "name": "python",
   "nbconvert_exporter": "python",
   "pygments_lexer": "ipython3",
   "version": "3.6.3"
  }
 },
 "nbformat": 4,
 "nbformat_minor": 2
}
