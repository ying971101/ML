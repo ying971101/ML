{
 "cells": [
  {
   "cell_type": "code",
   "execution_count": 8,
   "metadata": {},
   "outputs": [
    {
     "data": {
      "image/png": "[encoded data removed]",
      "text/plain": [
       "<matplotlib.figure.Figure at 0x7f3a7f7da1d0>"
      ]
     },
     "metadata": {},
     "output_type": "display_data"
    }
   ],
   "source": [
    "# write your code here\n",
    "import numpy as np\n",
    "from numpy import *\n",
    "import sklearn \n",
    "from sklearn.datasets import load_svmlight_file\n",
    "from sklearn.model_selection import train_test_split\n",
    "import matplotlib.pyplot as plt\n",
    "\n",
    "#read dataset\n",
    "X,y = load_svmlight_file(\"Housing.txt\")\n",
    "\n",
    "X_train,X_test,y_train,y_test = train_test_split(X,y,test_size = 0.2,random_state = 42)\n",
    "\n",
    "X_train = matrix(X_train.toarray())\n",
    "X_test = matrix(X_test.toarray())\n",
    "\n",
    "y_train = matrix(y_train).T\n",
    "y_test = matrix(y_test).T\n",
    "\n",
    "\n",
    "#parameters\n",
    "nita = 0.0005\n",
    "\n",
    "w = mat(zeros((X_train.shape[1],1)))\n",
    "\n",
    "#loss and gradient function\n",
    "def loss(X,y,w):\n",
    "    return (y-X*w).T*(y-X*w)/2\n",
    "\n",
    "def grad(X,y,w):\n",
    "    return -X.T*y+X.T*X*w\n",
    "\n",
    "#if the matrix has only one element,get it as a number\n",
    "def ele(t):\n",
    "    return np.array(t)[0]\n",
    "\n",
    "iter_cnt = 1\n",
    "iter_time = 200\n",
    "\n",
    "train_x = []\n",
    "train_y = []\n",
    "\n",
    "test_x = []\n",
    "test_y = []\n",
    "\n",
    "#gradient descent\n",
    "while iter_cnt <= iter_time:\n",
    "    iter_cnt += 1\n",
    "    w -= nita*grad(X_train,y_train,w)\n",
    "    \n",
    "    train_x.append(iter_cnt)\n",
    "    train_y.append(ele(loss(X_train,y_train,w))/y_train.shape[0])\n",
    "    test_x.append(iter_cnt)\n",
    "    test_y.append(ele(loss(X_test,y_test,w))/y_test.shape[0])\n",
    "\n",
    "#plot\n",
    "plt.plot(train_x,train_y,label = \"train\")\n",
    "plt.plot(test_x,test_y,label = \"validation\")\n",
    "plt.legend(loc = 'upper right')\n",
    "\n",
    "plt.xlabel(\"Iteration time\")\n",
    "plt.ylabel(\"Loss\")\n",
    "\n",
    "plt.show()\n"
   ]
  },
  {
   "cell_type": "code",
   "execution_count": null,
   "metadata": {
    "collapsed": true
   },
   "outputs": [],
   "source": []
  },
  {
   "cell_type": "code",
   "execution_count": null,
   "metadata": {
    "collapsed": true
   },
   "outputs": [],
   "source": []
  },
  {
   "cell_type": "code",
   "execution_count": null,
   "metadata": {
    "collapsed": true
   },
   "outputs": [],
   "source": []
  }
 ],
 "metadata": {
  "kernelspec": {
   "display_name": "Python 3",
   "language": "python",
   "name": "python3"
  },
  "language_info": {
   "codemirror_mode": {
    "name": "ipython",
    "version": 3
   },
   "file_extension": ".py",
   "mimetype": "text/x-python",
   "name": "python",
   "nbconvert_exporter": "python",
   "pygments_lexer": "ipython3",
   "version": "3.6.3"
  }
 },
 "nbformat": 4,
 "nbformat_minor": 2
}
